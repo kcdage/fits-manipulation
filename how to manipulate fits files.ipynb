{
 "cells": [
  {
   "cell_type": "code",
   "execution_count": 3,
   "metadata": {},
   "outputs": [],
   "source": [
    "import numpy as np\n",
    "from matplotlib import pyplot as plt\n",
    "\n",
    "%matplotlib inline\n",
    "\n",
    "from astropy import units as u\n",
    "\n",
    "from astropy.io import fits\n",
    "\n",
    "\n"
   ]
  },
  {
   "cell_type": "code",
   "execution_count": 4,
   "metadata": {},
   "outputs": [],
   "source": [
    "###load fits file. make sure to check fits header keys to figure out if it's \"RA\" \"RAJ2000\"\n",
    "hdul=fits.open('matchymatch2.fits')    \n",
    "ra_all=hdul[1].data['RA']\n",
    "dec_all=hdul[1].data['DEC']\n"
   ]
  },
  {
   "cell_type": "code",
   "execution_count": 8,
   "metadata": {},
   "outputs": [],
   "source": [
    "##writing coordinates to a txt file\n",
    "\n",
    "coords_out=np.column_stack((ra_all,dec_all))\n",
    "\n",
    "np.savetxt('img_cord.txt', coords_out)"
   ]
  },
  {
   "cell_type": "code",
   "execution_count": 13,
   "metadata": {},
   "outputs": [],
   "source": [
    "g_all=np.array([22.5, 23.4, 21.5, 20.1, 20.9])\n",
    "z_all=np.array([23.6, 24.4, 22.5, 22.1, 22.9 ])"
   ]
  },
  {
   "cell_type": "code",
   "execution_count": 16,
   "metadata": {},
   "outputs": [],
   "source": [
    "###creating a synthetic fits file from previously defined arrays and/or text files:\n",
    "\n",
    "#this loads coordinates out of a text file\n",
    "jx, jy=np.loadtxt('img_cord.txt', unpack=True)\n",
    "\n",
    "##writing numpy arrays into the format expected by astropy, \"name\" is what sets the header keys,\n",
    "#\"array\" is the array you want to write, and \"format='D'\" sets the cutoff for number of sigfigs\n",
    "c1=fits.Column(name='X', array=jx, format='D')\n",
    "c2=fits.Column(name='Y', array=jy, format='D')\n",
    "\n",
    "#these columns can be arrays from other places that could have corresponding info to the coordinates\n",
    "#here they'd be g and z magnitudes\n",
    "c3=fits.Column(name='g', array=g_all, format='D')\n",
    "c4=fits.Column(name='z', array=z_all, format='D')\n",
    "\n",
    "t = fits.BinTableHDU.from_columns([c1, c2,c3,c4,])\n",
    "\n",
    "\n",
    "###you can't write over files, if you make changes delete the file in your directory and run again\n",
    "t.writeto('examplefile.fits')"
   ]
  },
  {
   "cell_type": "code",
   "execution_count": null,
   "metadata": {},
   "outputs": [],
   "source": []
  }
 ],
 "metadata": {
  "kernelspec": {
   "display_name": "Python 2",
   "language": "python",
   "name": "python2"
  },
  "language_info": {
   "codemirror_mode": {
    "name": "ipython",
    "version": 2
   },
   "file_extension": ".py",
   "mimetype": "text/x-python",
   "name": "python",
   "nbconvert_exporter": "python",
   "pygments_lexer": "ipython2",
   "version": "2.7.17"
  }
 },
 "nbformat": 4,
 "nbformat_minor": 2
}
